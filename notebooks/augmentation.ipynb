{
 "cells": [
  {
   "cell_type": "code",
   "execution_count": 1,
   "metadata": {},
   "outputs": [],
   "source": [
    "import albumentations as A\n",
    "import cv2\n",
    "import json\n",
    "import numpy as np\n",
    "import os\n",
    "import sys\n",
    "\n",
    "module_path = os.path.abspath(os.path.join(\"..\"))\n",
    "if module_path not in sys.path:\n",
    "    sys.path.append(module_path)\n",
    "\n",
    "from src.data.image_augmentation import get_bbox_from_json, plot_img_with_bbox"
   ]
  },
  {
   "attachments": {},
   "cell_type": "markdown",
   "metadata": {},
   "source": [
    "Transform will be applied on images and related bounding boxes."
   ]
  },
  {
   "cell_type": "code",
   "execution_count": 2,
   "metadata": {},
   "outputs": [],
   "source": [
    "transform = A.Compose(\n",
    "    [\n",
    "        A.Resize(height=480, width=640),\n",
    "        A.RandomCrop(width=450, height=450),\n",
    "        A.HorizontalFlip(p=0.5),\n",
    "        A.VerticalFlip(p=0.5),\n",
    "        A.RandomBrightnessContrast(p=0.2),\n",
    "    ],\n",
    "    bbox_params=A.BboxParams(format=\"coco\"),\n",
    ")"
   ]
  },
  {
   "attachments": {},
   "cell_type": "markdown",
   "metadata": {},
   "source": [
    "Transform every image in nano folder and related bounding box in json-file. Transformed result will be saved in trans_img_bbox_nano."
   ]
  },
  {
   "cell_type": "code",
   "execution_count": 3,
   "metadata": {},
   "outputs": [],
   "source": [
    "path = \"../data/raw/nano\"\n",
    "json_file_path = \"../data/labeling/nano_labeling.json\"\n",
    "trans_img_bbox_nano = []\n",
    "# COUNT = 10\n",
    "\n",
    "if os.path.isdir(path):\n",
    "    for folder in os.listdir(path):\n",
    "        folder_path = os.path.join(path, folder)\n",
    "        for obj in os.listdir(folder_path):\n",
    "            obj_path = os.path.join(folder_path, obj)\n",
    "            img = cv2.imread(obj_path)\n",
    "            bbox = get_bbox_from_json(json_file_path, obj)\n",
    "            # for i in range(0, COUNT):\n",
    "            transformed = transform(image=img, bboxes=bbox)\n",
    "            trans_img_bbox_nano.append(transformed)"
   ]
  },
  {
   "attachments": {},
   "cell_type": "markdown",
   "metadata": {},
   "source": [
    "Transform every image in smartphone folder and related bounding box in json-file. Transformed result will be saved in trans_img_bbox_sm."
   ]
  },
  {
   "cell_type": "code",
   "execution_count": 27,
   "metadata": {},
   "outputs": [],
   "source": [
    "path = \"../data/raw/smartphone\"\n",
    "json_file_path = \"../data/labeling/smartphone_labeling.json\"\n",
    "trans_img_bbox_sm = []\n",
    "# COUNT = 10\n",
    "\n",
    "if os.path.isdir(path):\n",
    "    for folder in os.listdir(path):\n",
    "        folder_path = os.path.join(path, folder)\n",
    "        for obj in os.listdir(folder_path):\n",
    "            obj_path = os.path.join(folder_path, obj)\n",
    "            img = cv2.imread(obj_path)\n",
    "            bbox = get_bbox_from_json(json_file_path, obj)\n",
    "            # for i in range(0, COUNT):\n",
    "            transformed = transform(image=img, bboxes=bbox)\n",
    "            trans_img_bbox_sm.append(transformed)"
   ]
  },
  {
   "cell_type": "code",
   "execution_count": 31,
   "metadata": {},
   "outputs": [],
   "source": [
    "for i in range(0, len(trans_img_bbox_nano)):\n",
    "    plot_img_with_bbox(\n",
    "        transformed_image=trans_img_bbox_nano[i][\"image\"],\n",
    "        transformed_bboxes=trans_img_bbox_nano[i][\"bboxes\"],\n",
    "    )"
   ]
  }
 ],
 "metadata": {
  "kernelspec": {
   "display_name": "aiss2",
   "language": "python",
   "name": "python3"
  },
  "language_info": {
   "codemirror_mode": {
    "name": "ipython",
    "version": 3
   },
   "file_extension": ".py",
   "mimetype": "text/x-python",
   "name": "python",
   "nbconvert_exporter": "python",
   "pygments_lexer": "ipython3",
   "version": "3.10.9"
  },
  "orig_nbformat": 4
 },
 "nbformat": 4,
 "nbformat_minor": 2
}
