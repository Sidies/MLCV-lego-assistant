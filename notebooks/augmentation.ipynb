{
 "cells": [
  {
   "cell_type": "code",
   "execution_count": 62,
   "metadata": {},
   "outputs": [],
   "source": [
    "import albumentations as A\n",
    "import cv2\n",
    "import json\n",
    "import numpy as np"
   ]
  },
  {
   "cell_type": "code",
   "execution_count": 63,
   "metadata": {},
   "outputs": [],
   "source": [
    "transform = A.Compose([\n",
    "    A.RandomCrop(width=450, height=450),\n",
    "    A.HorizontalFlip(p=0.5),\n",
    "    A.VerticalFlip(p=0.5),\n",
    "    A.RandomBrightnessContrast(p=0.2),\n",
    "], bbox_params=A.BboxParams(format='coco'))"
   ]
  },
  {
   "cell_type": "code",
   "execution_count": 64,
   "metadata": {},
   "outputs": [],
   "source": [
    "img = cv2.imread(\"../data/raw/nano/Rot/Rot1.jpg\")\n"
   ]
  },
  {
   "cell_type": "code",
   "execution_count": 65,
   "metadata": {},
   "outputs": [
    {
     "name": "stdout",
     "output_type": "stream",
     "text": [
      "x: 274\n",
      "y: 248\n",
      "width: 76\n",
      "height: 68\n"
     ]
    }
   ],
   "source": [
    "json_file_path = \"../data/raw/nano/Rot/Lego_Parts_Labeling.json\"\n",
    "\n",
    "with open(json_file_path, \"r\") as file:\n",
    "    json_data = json.load(file)\n",
    "    \n",
    "region_data = json_data[\"_via_img_metadata\"]['Rot1.jpg27430']['regions'][0]['shape_attributes']\n",
    "x = region_data['x']\n",
    "y = region_data['y']\n",
    "width = region_data['width']\n",
    "height = region_data['height']\n",
    "\n",
    "# Ausgabe der Werte\n",
    "print(\"x:\", x)\n",
    "print(\"y:\", y)\n",
    "print(\"width:\", width)\n",
    "print(\"height:\", height)\n"
   ]
  },
  {
   "cell_type": "code",
   "execution_count": 66,
   "metadata": {},
   "outputs": [],
   "source": [
    "# coco [x_min, y_min, width, height]\n",
    "bboxes =[\n",
    "    [x, y, width, height, 'Rot']\n",
    "    ]\n"
   ]
  },
  {
   "cell_type": "code",
   "execution_count": 67,
   "metadata": {},
   "outputs": [],
   "source": [
    "transformed = transform(image=img, bboxes=bboxes)\n",
    "transformed_image = transformed['image']\n",
    "transformed_bboxes = transformed['bboxes']\n",
    "\n",
    "# Kopie des Bildes erstellen, um die Bounding Box zu zeichnen\n",
    "image_with_bboxes = transformed_image.copy()\n",
    "\n",
    "# Bounding Box zeichnen\n",
    "bbox = transformed_bboxes[0]  # Annahme: Es gibt nur eine Bounding Box\n",
    "x, y, width, height, label = bbox\n",
    "cv2.rectangle(image_with_bboxes, (int(x), int(y)), (int(x + width), int(y + height)), (0, 255, 0), 2)\n",
    "cv2.putText(image_with_bboxes, label, (int(x), int(y) - 10), cv2.FONT_HERSHEY_SIMPLEX, 0.9, (0, 255, 0), 2)\n",
    "\n",
    "# Bild mit gezeichneter Bounding Box anzeigen\n",
    "cv2.imshow(\"Bild mit Bounding Box\", image_with_bboxes)\n",
    "cv2.waitKey(0)\n",
    "cv2.destroyAllWindows()"
   ]
  }
 ],
 "metadata": {
  "kernelspec": {
   "display_name": "aiss2",
   "language": "python",
   "name": "python3"
  },
  "language_info": {
   "codemirror_mode": {
    "name": "ipython",
    "version": 3
   },
   "file_extension": ".py",
   "mimetype": "text/x-python",
   "name": "python",
   "nbconvert_exporter": "python",
   "pygments_lexer": "ipython3",
   "version": "3.10.9"
  },
  "orig_nbformat": 4
 },
 "nbformat": 4,
 "nbformat_minor": 2
}
