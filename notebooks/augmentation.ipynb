{
 "cells": [
  {
   "cell_type": "code",
   "execution_count": 109,
   "metadata": {},
   "outputs": [],
   "source": [
    "import os\n",
    "import sys\n",
    "\n",
    "module_path = os.path.abspath(os.path.join(\"..\"))\n",
    "if module_path not in sys.path:\n",
    "    sys.path.append(module_path)\n",
    "\n",
    "import cv2\n",
    "import json\n",
    "import numpy as np\n",
    "import xml.etree.ElementTree as et\n",
    "import pandas as pd\n",
    "import albumentations as A\n",
    "\n",
    "from src.data.image_augmentation import plot_img_with_bbox"
   ]
  },
  {
   "cell_type": "code",
   "execution_count": 110,
   "metadata": {},
   "outputs": [],
   "source": [
    "transform = A.Compose(\n",
    "    [\n",
    "        A.Resize(height=224, width=224),\n",
    "        #A.RandomCrop(width=256, height=256),\n",
    "        A.HorizontalFlip(p=0.5),\n",
    "        A.VerticalFlip(p=0.5),\n",
    "        A.RandomBrightnessContrast(p=0.2),\n",
    "    ],\n",
    "    bbox_params=A.BboxParams(format=\"pascal_voc\"),\n",
    ")"
   ]
  },
  {
   "cell_type": "code",
   "execution_count": 111,
   "metadata": {},
   "outputs": [],
   "source": [
    "def get_bbox(xml_filename: str):\n",
    "    path_annotations ='../data/lego/Annotations'\n",
    "    for file in os.listdir(path=path_annotations):\n",
    "        if file.endswith(\".xml\") and file == xml_filename:\n",
    "            path_file = os.path.join(path_annotations, file)\n",
    "            tree = et.parse(path_file)\n",
    "            root = tree.getroot()\n",
    "\n",
    "            filename = root.find(\"filename\").text\n",
    "\n",
    "            xmin = float(root.find(\"./object/bndbox/xmin\").text)\n",
    "            ymin = float(root.find(\"./object/bndbox/ymin\").text)\n",
    "            xmax = float(root.find(\"./object/bndbox/xmax\").text)\n",
    "            ymax = float(root.find(\"./object/bndbox/ymax\").text)\n",
    "\n",
    "            label = root.find(\"./object/name\").text\n",
    "            # Pascal Voc: [x_min, y_min, x_max, y_max, label]\n",
    "            return [[xmin, ymin, xmax, ymax, label]]"
   ]
  },
  {
   "cell_type": "code",
   "execution_count": 112,
   "metadata": {},
   "outputs": [],
   "source": [
    "def get_unique_filename(filename: str):\n",
    "    # Überprüfe, ob die Basisdatei bereits existiert\n",
    "    path = \"../data/lego/Annotations/\" + filename\n",
    "    if not os.path.exists(path):\n",
    "        return filename\n",
    "    # Suche nach einer eindeutigen Nummer für den Namen\n",
    "    filename_split = filename.split(\".\")\n",
    "    base_name = filename_split[0]\n",
    "    extension = filename_split[1]\n",
    "    counter = 1\n",
    "    unique_name = base_name + \"_\" + str(counter) + '.' + extension\n",
    "    while os.path.exists(unique_name):\n",
    "        counter += 1\n",
    "        unique_name = base_name + \"_\" + str(counter) + '.' + extension\n",
    "\n",
    "    return unique_name"
   ]
  },
  {
   "cell_type": "code",
   "execution_count": 126,
   "metadata": {},
   "outputs": [],
   "source": [
    "def create_bbox_xml_file(filename: str, filename_new: str):\n",
    "    bbox = get_bbox(filename)\n",
    "    # Pascal Voc: [x_min, y_min, x_max, y_max, label]\n",
    "    path_annotations ='../data/lego/Annotations/'\n",
    "    for xml_file in os.listdir(path_annotations):\n",
    "        if xml_file == filename:\n",
    "            path_file = os.path.join(path_annotations, xml_file)\n",
    "            new_filename = filename_new.split(\".\")[0] + \".xml\"\n",
    "            tree = et.parse(path_file)\n",
    "            root = tree.getroot()\n",
    "\n",
    "            filename_element = root.find(\"filename\")\n",
    "            filename_element.text = new_filename\n",
    "            xmin = root.find(\"./object/bndbox/xmin\")\n",
    "            xmin.text = str(bbox[0][0])\n",
    "            ymin = root.find(\"./object/bndbox/ymin\")\n",
    "            ymin.text = str(bbox[0][1])\n",
    "            xmax = root.find(\"./object/bndbox/xmax\")\n",
    "            xmax.text = str(bbox[0][2])\n",
    "            ymax = root.find(\"./object/bndbox/ymax\")\n",
    "            ymax.text = str(bbox[0][3])\n",
    "            label = root.find(\"./object/name\")\n",
    "            \n",
    "            new_path_file = os.path.join(path_annotations, new_filename)\n",
    "            tree.write(new_path_file)"
   ]
  },
  {
   "cell_type": "code",
   "execution_count": 114,
   "metadata": {},
   "outputs": [],
   "source": [
    "def write_img_name(image_name: str, txt_path: str):\n",
    "    with open(txt_path, \"a\") as file:\n",
    "        file.write(image_name.split('.')[0] + \"\\n\")"
   ]
  },
  {
   "cell_type": "code",
   "execution_count": 115,
   "metadata": {},
   "outputs": [],
   "source": [
    "def delete_all_entries(file_path: str):\n",
    "    with open(file_path, 'w') as file:\n",
    "        file.truncate(0)\n",
    "        \n",
    "def delete_all_files(folder_path: str):\n",
    "    file_list = os.listdir(folder_path)\n",
    "    for file_name in file_list:\n",
    "        file_path = os.path.join(folder_path, file_name)\n",
    "        if os.path.isfile(file_path):\n",
    "            os.remove(file_path)\n",
    "            \n",
    "import shutil\n",
    "def copy_all_files(source_folder: str, destination_folder: str):\n",
    "    file_list = os.listdir(source_folder)\n",
    "    for file_name in file_list:\n",
    "        source_path = os.path.join(source_folder, file_name)\n",
    "        destination_path = os.path.join(destination_folder, file_name)\n",
    "        shutil.copy(source_path, destination_path)\n",
    "        \n",
    "def reset():\n",
    "    delete_all_entries('../data/lego/ImageSets/Main/train.txt')\n",
    "    delete_all_files('../data/lego/JPEGImages/')\n",
    "    delete_all_files('../data/lego/Annotations/')\n",
    "    copy_all_files(source_folder='../data/labeling/', destination_folder='../data/lego/Annotations/')"
   ]
  },
  {
   "cell_type": "code",
   "execution_count": 116,
   "metadata": {},
   "outputs": [],
   "source": [
    "reset()"
   ]
  },
  {
   "cell_type": "code",
   "execution_count": 117,
   "metadata": {},
   "outputs": [],
   "source": [
    "def augmentation(folder_name: str):\n",
    "    path = \"../data/raw/\" + folder_name\n",
    "    for file in os.listdir(path):\n",
    "        file_path = os.path.join(path, file)\n",
    "        image = cv2.imread(file_path)\n",
    "        xml_filename = file.split('.')[0] + '.xml'\n",
    "        bboxes = get_bbox(xml_filename)\n",
    "        \n",
    "        # transform img and its bbox\n",
    "        transformed = transform(image=image, bboxes=bboxes)\n",
    "        transformed_image = transformed[\"image\"]\n",
    "        transformed_bboxes = transformed[\"bboxes\"]\n",
    "        \n",
    "        unique_filename_xml = get_unique_filename(xml_filename)\n",
    "        print('augmentation filename_new:', unique_filename_xml)\n",
    "        # create bbox file for aug img\n",
    "        create_bbox_xml_file(xml_filename, unique_filename_xml)\n",
    "        \n",
    "        # save aug img in JPEGImages\n",
    "        path_write = '../data/lego/JPEGImages/' \n",
    "        unique_filename_jpg = unique_filename_xml.split('.')[0] + '.jpg'\n",
    "        cv2.imwrite(\n",
    "            path_write + unique_filename_jpg,\n",
    "            transformed_image,\n",
    "            [cv2.IMWRITE_JPEG_QUALITY, 100],\n",
    "        )\n",
    "        write_img_name(unique_filename_jpg, '../data/lego/ImageSets/Main/train.txt')\n",
    "        plot_img_with_bbox(transformed_image, transformed_bboxes)\n",
    "        \n",
    "        \n",
    "        "
   ]
  },
  {
   "cell_type": "code",
   "execution_count": 127,
   "metadata": {},
   "outputs": [
    {
     "name": "stdout",
     "output_type": "stream",
     "text": [
      "vorhanden\n",
      "augmentation filename_new: Blau1_1.xml\n"
     ]
    },
    {
     "name": "stdout",
     "output_type": "stream",
     "text": [
      "vorhanden\n",
      "augmentation filename_new: Blau10_1.xml\n",
      "vorhanden\n",
      "augmentation filename_new: Blau11_1.xml\n",
      "vorhanden\n",
      "augmentation filename_new: Blau12_1.xml\n",
      "vorhanden\n",
      "augmentation filename_new: Blau13_1.xml\n",
      "vorhanden\n",
      "augmentation filename_new: Blau2_1.xml\n",
      "vorhanden\n",
      "augmentation filename_new: Blau3_1.xml\n",
      "vorhanden\n",
      "augmentation filename_new: Blau4_1.xml\n",
      "vorhanden\n",
      "augmentation filename_new: Blau5_1.xml\n",
      "vorhanden\n",
      "augmentation filename_new: Blau6_1.xml\n"
     ]
    }
   ],
   "source": [
    "augmentation(folder_name='Iteration_1')"
   ]
  },
  {
   "cell_type": "code",
   "execution_count": null,
   "metadata": {},
   "outputs": [],
   "source": [
    "#reset()"
   ]
  }
 ],
 "metadata": {
  "kernelspec": {
   "display_name": "aiss2",
   "language": "python",
   "name": "python3"
  },
  "language_info": {
   "codemirror_mode": {
    "name": "ipython",
    "version": 3
   },
   "file_extension": ".py",
   "mimetype": "text/x-python",
   "name": "python",
   "nbconvert_exporter": "python",
   "pygments_lexer": "ipython3",
   "version": "3.10.9"
  },
  "orig_nbformat": 4
 },
 "nbformat": 4,
 "nbformat_minor": 2
}
