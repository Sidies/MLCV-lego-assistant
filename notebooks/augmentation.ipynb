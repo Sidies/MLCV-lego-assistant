{
 "cells": [
  {
   "cell_type": "code",
   "execution_count": 2,
   "metadata": {},
   "outputs": [],
   "source": [
    "import albumentations as A\n",
    "import cv2\n",
    "import json\n",
    "import numpy as np\n",
    "import os\n",
    "import sys\n",
    "\n",
    "module_path = os.path.abspath(os.path.join(\"..\"))\n",
    "if module_path not in sys.path:\n",
    "    sys.path.append(module_path)\n",
    "\n",
    "from src.data.image_augmentation import get_bbox_from_json, plot_img_with_bbox, transformed"
   ]
  },
  {
   "attachments": {},
   "cell_type": "markdown",
   "metadata": {},
   "source": [
    "Transform will be applied on images and related bounding boxes."
   ]
  },
  {
   "cell_type": "code",
   "execution_count": 2,
   "metadata": {},
   "outputs": [],
   "source": [
    "transform = A.Compose(\n",
    "    [\n",
    "        A.Resize(height=480, width=640),\n",
    "        A.RandomCrop(width=450, height=450),\n",
    "        A.HorizontalFlip(p=0.5),\n",
    "        A.VerticalFlip(p=0.5),\n",
    "        A.RandomBrightnessContrast(p=0.2),\n",
    "    ],\n",
    "    bbox_params=A.BboxParams(format=\"coco\"),\n",
    ")"
   ]
  },
  {
   "cell_type": "code",
   "execution_count": 1,
   "metadata": {},
   "outputs": [],
   "source": [
    "# ImageID: Eine eindeutige Kennung oder ein Name, der das Bild identifiziert, auf das sich der Datensatz bezieht.\n",
    "# Source: Die Quelle oder der Ursprung des Bildes oder der Daten.\n",
    "# LabelName: Der Name oder die Bezeichnung des Objekts oder Labels, das in diesem Datensatz beschrieben wird.\n",
    "# Confidence: Die Vertrauenswürdigkeit oder Zuverlässigkeit der Klassifizierung oder des Labels. Sie kann einen numerischen Wert oder einen Schwellenwert enthalten.\n",
    "# XMin: Die minimale X-Koordinate (horizontal) des begrenzenden Rechtecks oder Bereichs, der das Objekt im Bild umschließt.\n",
    "# XMax: Die maximale X-Koordinate (horizontal) des begrenzenden Rechtecks oder Bereichs, der das Objekt im Bild umschließt.\n",
    "# YMin: Die minimale Y-Koordinate (vertikal) des begrenzenden Rechtecks oder Bereichs, der das Objekt im Bild umschließt.\n",
    "# YMax: Die maximale Y-Koordinate (vertikal) des begrenzenden Rechtecks oder Bereichs, der das Objekt im Bild umschließt.\n",
    "# IsOccluded: Gibt an, ob das Objekt im Bild teilweise verdeckt ist (True/False).\n",
    "# IsTruncated: Gibt an, ob das Objekt im Bild abgeschnitten oder teilweise sichtbar ist (True/False).\n",
    "# IsGroupOf: Gibt an, ob das Objekt eine Gruppe von Objekten repräsentiert (True/False).\n",
    "# IsDepiction: Gibt an, ob das Objekt eine Darstellung oder eine Abbildung ist (True/False).\n",
    "# IsInside: Gibt an, ob das Objekt innerhalb eines anderen Objekts im Bild liegt (True/False).\n",
    "# id: Eine eindeutige Kennung oder ID für den Datensatz oder das Objekt.\n",
    "# ClassName: Der Name der Klasse oder Kategorie, zu der das Objekt gehört."
   ]
  },
  {
   "cell_type": "code",
   "execution_count": 3,
   "metadata": {},
   "outputs": [
    {
     "name": "stdout",
     "output_type": "stream",
     "text": [
      "Die Konvertierung von Pascal VOC in CSV wurde abgeschlossen.\n"
     ]
    }
   ],
   "source": [
    "import os\n",
    "import xml.etree.ElementTree as ET\n",
    "import csv\n",
    "\n",
    "# Verzeichnis mit den XML-Dateien im Pascal VOC-Format\n",
    "xml_dir = '../data/labeling'\n",
    "\n",
    "# CSV-Datei zum Speichern der Annotationsinformationen\n",
    "csv_file = '../data/processed/annotations-bbox.csv'\n",
    "\n",
    "# Header für die CSV-Datei\n",
    "header = ['ImageID', 'LabelName', 'XMin', 'XMax', 'YMin', 'YMax']\n",
    "\n",
    "# CSV-Datei zum Schreiben öffnen\n",
    "with open(csv_file, 'w', newline='') as file:\n",
    "    writer = csv.writer(file)\n",
    "    writer.writerow(header)\n",
    "\n",
    "    # Alle XML-Dateien im Verzeichnis lesen\n",
    "    for xml_file in os.listdir(xml_dir):\n",
    "        if xml_file.endswith('.xml'):\n",
    "            # XML-Datei öffnen\n",
    "            tree = ET.parse(os.path.join(xml_dir, xml_file))\n",
    "            root = tree.getroot()\n",
    "\n",
    "            # Informationen aus der XML-Datei extrahieren\n",
    "            filename = root.find('filename').text\n",
    "            objects = root.findall('object')\n",
    "\n",
    "            for obj in objects:\n",
    "                label_name = obj.find('name').text\n",
    "                bbox = obj.find('bndbox')\n",
    "                xmin = bbox.find('xmin').text\n",
    "                ymin = bbox.find('ymin').text\n",
    "                xmax = bbox.find('xmax').text\n",
    "                ymax = bbox.find('ymax').text\n",
    "\n",
    "                # Informationen in die CSV-Datei schreiben\n",
    "                writer.writerow([filename, label_name, xmin, xmax, ymin, ymax])\n",
    "\n",
    "print(\"Die Konvertierung von Pascal VOC in CSV wurde abgeschlossen.\")\n"
   ]
  }
 ],
 "metadata": {
  "kernelspec": {
   "display_name": "aiss2",
   "language": "python",
   "name": "python3"
  },
  "language_info": {
   "codemirror_mode": {
    "name": "ipython",
    "version": 3
   },
   "file_extension": ".py",
   "mimetype": "text/x-python",
   "name": "python",
   "nbconvert_exporter": "python",
   "pygments_lexer": "ipython3",
   "version": "3.10.9"
  },
  "orig_nbformat": 4
 },
 "nbformat": 4,
 "nbformat_minor": 2
}
