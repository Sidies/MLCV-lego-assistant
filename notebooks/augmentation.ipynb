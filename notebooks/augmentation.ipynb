{
 "cells": [
  {
   "cell_type": "code",
   "execution_count": 1,
   "metadata": {},
   "outputs": [],
   "source": [
    "import albumentations as A\n",
    "import cv2\n",
    "import json\n",
    "import numpy as np\n",
    "import os\n",
    "import sys\n",
    "\n",
    "module_path = os.path.abspath(os.path.join('..'))\n",
    "if module_path not in sys.path:\n",
    "    sys.path.append(module_path)\n",
    "\n",
    "from src.data.image_augmentation import get_bbox_from_json, plot_img_with_bbox"
   ]
  },
  {
   "cell_type": "code",
   "execution_count": 2,
   "metadata": {},
   "outputs": [],
   "source": [
    "transform = A.Compose([\n",
    "    A.RandomCrop(width=450, height=450),\n",
    "    A.HorizontalFlip(p=0.5),\n",
    "    A.VerticalFlip(p=0.5),\n",
    "    A.RandomBrightnessContrast(p=0.2),\n",
    "], bbox_params=A.BboxParams(format='coco'))"
   ]
  },
  {
   "cell_type": "code",
   "execution_count": 15,
   "metadata": {},
   "outputs": [],
   "source": [
    "folder_path = \"../data/raw/nano/Rot\"\n",
    "trans_img_bbox = []\n",
    "COUNT = 10\n",
    "\n",
    "if os.path.isdir(folder_path):\n",
    "    for obj in os.listdir(folder_path):\n",
    "        obj_path = os.path.join(folder_path, obj)\n",
    "        # Search for JSON-File in folder\n",
    "        if os.path.isfile(obj_path) and obj.lower().endswith(\".json\"):\n",
    "            json_file_path = obj_path\n",
    "            # Check JPG-Files in folder\n",
    "            for obj in os.listdir(folder_path):\n",
    "                obj_path = os.path.join(folder_path, obj)\n",
    "                if os.path.isfile(obj_path) and obj.lower().endswith(\".jpg\"):\n",
    "                    #Get image and bbox\n",
    "                    img = cv2.imread(obj_path)\n",
    "                    bbox = get_bbox_from_json(json_file_path, obj)\n",
    "                    # Transform image with bbox multiple times\n",
    "                    for i in range(0, COUNT):\n",
    "                        transformed = transform(image=img, bboxes=bbox)\n",
    "                        trans_img_bbox.append(transformed)"
   ]
  },
  {
   "cell_type": "code",
   "execution_count": 16,
   "metadata": {},
   "outputs": [],
   "source": [
    "#transformed_image = transformed['image']\n",
    "#transformed_bboxes = transformed['bboxes']\n",
    "\n",
    "for i in range(0,8):\n",
    "    plot_img_with_bbox(transformed_image=trans_img_bbox[i]['image'], transformed_bboxes=trans_img_bbox[i]['bboxes'])"
   ]
  }
 ],
 "metadata": {
  "kernelspec": {
   "display_name": "aiss2",
   "language": "python",
   "name": "python3"
  },
  "language_info": {
   "codemirror_mode": {
    "name": "ipython",
    "version": 3
   },
   "file_extension": ".py",
   "mimetype": "text/x-python",
   "name": "python",
   "nbconvert_exporter": "python",
   "pygments_lexer": "ipython3",
   "version": "3.10.9"
  },
  "orig_nbformat": 4
 },
 "nbformat": 4,
 "nbformat_minor": 2
}
